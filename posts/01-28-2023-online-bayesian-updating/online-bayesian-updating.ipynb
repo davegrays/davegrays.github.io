{
 "cells": [
  {
   "cell_type": "raw",
   "id": "410cbf55-7cd3-4709-acc0-bb7e1091e03d",
   "metadata": {},
   "source": [
    "---\n",
    "title: \"Online learning through bayesian updating\"\n",
    "date: \"2023-01-28\"\n",
    "format:\n",
    "  html:\n",
    "    code-fold: false\n",
    "jupyter: python3\n",
    "image: cell-7-output-3-copy.png\n",
    "---"
   ]
  },
  {
   "cell_type": "markdown",
   "id": "d7bb6832-68b3-43eb-98b4-3fe9036ac4b0",
   "metadata": {},
   "source": [
    "### Problem\n",
    "\n",
    "Recently I had to solve a machine learning problem that involved online learning, i.e. updating the weights of your model only with incoming batches of data. This is opposed to the much more familiar offline training paradigm where you cycle through multiple epochs over a single dataset.\n",
    "\n",
    "There’s lots of potential use cases for this - think of any situation where you want your model continuously updating as data is simultaneously coming in (e.g. streaming apps, stock market prediction, etc.). The problem arises that the ‘right’ way of updating your model depends heavily on how much you want to balance new vs old data in terms of its influence on the the model. On top of this, even if you want to treat all data points equally, a new learning rate must still be chosen at each update, and this is non-trivial given that you don’t know anything about future samples.\n",
    "\n",
    "Do a quick search online and you will find lots of lengthy [discussions](https://medium.com/value-stream-design/online-machine-learning-515556ff72c5) of this problem as well as [research papers](https://arxiv.org/abs/1802.02871) that address it. Surprisingly, I found very few examples of simple proof-of-concepts with working code. Here I will aim to create just that.\n",
    "\n",
    "### Proposed solution\n",
    "\n",
    "This post will show how to use bayesian inference to iteratively update a model's weights with each new batch of data. The key insight here is that bayesian updates are implemented quite naturally by simply resetting the prior distribution to whatever the posterior was, and then recalculating the new posterior based on the new data. The updated “weights” (the way we think of them in a frequentist sense) correspond to the mode of the most recently updated posterior. Note that this method does treat all data points equally, regardless of time, but that’s a simplifying assumption that’s helpful for now.\n",
    "\n",
    "Here I’ll give an example using a simple logistic regression.\n",
    "\n",
    "With a model like this, the updates are easy (and fast!) to calculate via quadratic approximation of the posterior in PyMC. Later I’ll mention some more generalizable frameworks for approximating the posterior with neural networks.\n",
    "\n",
    "### Import"
   ]
  },
  {
   "cell_type": "code",
   "execution_count": null,
   "id": "5426510e-4718-4beb-86d8-d31d36daeb1f",
   "metadata": {},
   "outputs": [],
   "source": [
    "import matplotlib.pyplot as plt\n",
    "import matplotlib\n",
    "import numpy as np\n",
    "import pymc as pm\n",
    "import seaborn as sns\n",
    "from scipy.stats import norm"
   ]
  },
  {
   "cell_type": "markdown",
   "id": "8670e67d-ef7f-4ae5-8396-7b551456fcc2",
   "metadata": {},
   "source": [
    "### Simulate some data for a logistic regression\n",
    "\n",
    "(doesn’t matter how, as long as we can visualize a decision boundary)\n",
    "\n",
    "I’ll use 100 samples for simplicity. The idea is that I'm going to use subsamples of this dataset to fit and update a model, one subsample at a time."
   ]
  },
  {
   "cell_type": "code",
   "execution_count": null,
   "id": "2950eef4-523d-455e-acfb-c01a6b6d1b5e",
   "metadata": {},
   "outputs": [
    {
     "data": {
      "image/png": "[encoded data removed]",
      "text/plain": [
       "<Figure size 400x400 with 1 Axes>"
      ]
     },
     "metadata": {},
     "output_type": "display_data"
    }
   ],
   "source": [
    "n_obs = 100\n",
    "\n",
    "rng = np.random.default_rng()\n",
    "x0_obs = rng.normal(5, 2, size=n_obs)\n",
    "y_obs = rng.binomial(1, 0.5, size=n_obs)\n",
    "\n",
    "y_vec = np.zeros((len(y_obs), 2))\n",
    "y_vec[np.arange(len(y_obs)), y_obs] = 1\n",
    "mu_obs = y_vec @ np.array([1, 3]) + (y_vec @ np.array([1, 1])) * x0_obs\n",
    "x1_obs = rng.normal(mu_obs, 1)\n",
    "\n",
    "x0_obs = x0_obs - x0_obs.mean()\n",
    "x1_obs = x1_obs - x1_obs.mean()\n",
    "x_obs = np.concatenate(([np.ones(x0_obs.shape[0])], [x0_obs], [x1_obs])).T\n",
    "\n",
    "plt.figure(figsize=(4, 4))\n",
    "sns.scatterplot(x=x0_obs, y=x1_obs, hue=y_obs)\n",
    "plt.show()"
   ]
  },
  {
   "cell_type": "markdown",
   "id": "0d843710-5cca-4729-992d-71e61befadda",
   "metadata": {},
   "source": [
    "### Specify the model & obtain the first posterior\n",
    "\n",
    "Using just the first batch of 10 samples\n",
    "\n",
    "(and I’ll say to update the model a total of 10 times after that, 10 samples at a time)"
   ]
  },
  {
   "cell_type": "code",
   "execution_count": null,
   "id": "f003a41d-134a-462a-ae39-3b61f99bf543",
   "metadata": {},
   "outputs": [
    {
     "data": {
      "text/html": [
       "\n",
       "<style>\n",
       "    /* Turns off some styling */\n",
       "    progress {\n",
       "        /* gets rid of default border in Firefox and Opera. */\n",
       "        border: none;\n",
       "        /* Needs to be in here for Safari polyfill so background images work as expected. */\n",
       "        background-size: auto;\n",
       "    }\n",
       "    progress:not([value]), progress:not([value])::-webkit-progress-bar {\n",
       "        background: repeating-linear-gradient(45deg, #7e7e7e, #7e7e7e 10px, #5c5c5c 10px, #5c5c5c 20px);\n",
       "    }\n",
       "    .progress-bar-interrupted, .progress-bar-interrupted::-webkit-progress-bar {\n",
       "        background: #F44336;\n",
       "    }\n",
       "</style>\n"
      ],
      "text/plain": [
       "<IPython.core.display.HTML object>"
      ]
     },
     "metadata": {},
     "output_type": "display_data"
    },
    {
     "data": {
      "text/html": [
       "\n",
       "    <div>\n",
       "      <progress value='16' class='' max='16' style='width:300px; height:20px; vertical-align: middle;'></progress>\n",
       "      100.00% [16/16 00:00&lt;00:00 logp = -10.35, ||grad|| = 0.0050886]\n",
       "    </div>\n",
       "    "
      ],
      "text/plain": [
       "<IPython.core.display.HTML object>"
      ]
     },
     "metadata": {},
     "output_type": "display_data"
    },
    {
     "name": "stdout",
     "output_type": "stream",
     "text": [
      "\n"
     ]
    }
   ],
   "source": [
    "steps = 10\n",
    "\n",
    "num_features = x_obs.shape[1]\n",
    "step = n_obs // steps\n",
    "x_start = x_obs[:step, :]\n",
    "y_start = y_obs[:step]\n",
    "\n",
    "with pm.Model() as start_model:\n",
    "    # use Normal as priors\n",
    "    # w is our list of model weights\n",
    "    w = pm.Normal(\"w\", 0, 10, shape=num_features)\n",
    "    p = pm.math.invlogit(x_start @ w)\n",
    "    # likelihood function\n",
    "    y = pm.Binomial(\"y\", 1, p, observed=y_start)\n",
    "\n",
    "    # estimate the posterior as a gaussian\n",
    "    mean_w = pm.find_MAP()\n",
    "    hess = pm.find_hessian(mean_w, vars=[w])\n",
    "    var_cov = np.linalg.inv(hess)\n",
    "    std_w = np.sqrt(np.diag(var_cov))"
   ]
  },
  {
   "cell_type": "markdown",
   "id": "2a175cfd-d708-4986-b4ac-b2fc71100e1c",
   "metadata": {},
   "source": [
    "### Code explanation\n",
    "\n",
    "Let me summarize what’s going on here:\n",
    "\n",
    "Our model has 3 weights (2 + bias), are denoted by `w`, and each given a prior with a mean of 0 and stdev of 10\n",
    "\n",
    "The likelihood function is specified here as a bernoulli (or binomial with n=1) with p being a sigmoid function of inputs * weights\n",
    "\n",
    "PyMC enables bayesian inference either through estimation or sampling of the posterior. In this case, we estimate it directly by finding the maximum of the posterior (analogous to maximum likelihood estimation) and describing its curvature with the hessian (a matrix of second-order partial derivatives). If we assume the shape of the posterior is gaussian, the hessian is sufficient to derive its standard deviation. Note that we could also sample the posterior instead, but that would be more expensive and won’t scale to n-dimensional problems.\n",
    "\n",
    "Notice then that the whole posterior for `w` is described by only two terms: mean_w and std_w (the mean/mode of a gaussian and its standard deviation). We can view their current values:"
   ]
  },
  {
   "cell_type": "code",
   "execution_count": null,
   "id": "36c520b2-e613-4931-9a5b-bb2355ced8a1",
   "metadata": {},
   "outputs": [
    {
     "name": "stdout",
     "output_type": "stream",
     "text": [
      "means: [ 1.31026875 -5.99367736  6.3300888 ]\n",
      "standard devs: [2.07364747 3.53659583 3.7744848 ]\n"
     ]
    }
   ],
   "source": [
    "print(\"means:\", mean_w[\"w\"])\n",
    "print(\"standard devs:\", std_w)"
   ]
  },
  {
   "cell_type": "markdown",
   "id": "dd22dcda-fd3e-4954-82a8-6b95ea8e195c",
   "metadata": {},
   "source": [
    "### Subsequent updates\n",
    "\n",
    "For subsequent updates, all we need is to reset our prior on `w` to the posterior we just found. The next posterior is discovered by simply repeating the same inference process on a new batch of data."
   ]
  },
  {
   "cell_type": "code",
   "execution_count": null,
   "id": "ad998806-ba62-4e89-b472-4d1945bd754a",
   "metadata": {},
   "outputs": [
    {
     "data": {
      "text/html": [
       "\n",
       "<style>\n",
       "    /* Turns off some styling */\n",
       "    progress {\n",
       "        /* gets rid of default border in Firefox and Opera. */\n",
       "        border: none;\n",
       "        /* Needs to be in here for Safari polyfill so background images work as expected. */\n",
       "        background-size: auto;\n",
       "    }\n",
       "    progress:not([value]), progress:not([value])::-webkit-progress-bar {\n",
       "        background: repeating-linear-gradient(45deg, #7e7e7e, #7e7e7e 10px, #5c5c5c 10px, #5c5c5c 20px);\n",
       "    }\n",
       "    .progress-bar-interrupted, .progress-bar-interrupted::-webkit-progress-bar {\n",
       "        background: #F44336;\n",
       "    }\n",
       "</style>\n"
      ],
      "text/plain": [
       "<IPython.core.display.HTML object>"
      ]
     },
     "metadata": {},
     "output_type": "display_data"
    },
    {
     "data": {
      "text/html": [
       "\n",
       "    <div>\n",
       "      <progress value='13' class='' max='13' style='width:300px; height:20px; vertical-align: middle;'></progress>\n",
       "      100.00% [13/13 00:00&lt;00:00 logp = -6.6914, ||grad|| = 0.0018485]\n",
       "    </div>\n",
       "    "
      ],
      "text/plain": [
       "<IPython.core.display.HTML object>"
      ]
     },
     "metadata": {},
     "output_type": "display_data"
    },
    {
     "name": "stdout",
     "output_type": "stream",
     "text": [
      "\n"
     ]
    },
    {
     "data": {
      "text/html": [
       "\n",
       "<style>\n",
       "    /* Turns off some styling */\n",
       "    progress {\n",
       "        /* gets rid of default border in Firefox and Opera. */\n",
       "        border: none;\n",
       "        /* Needs to be in here for Safari polyfill so background images work as expected. */\n",
       "        background-size: auto;\n",
       "    }\n",
       "    progress:not([value]), progress:not([value])::-webkit-progress-bar {\n",
       "        background: repeating-linear-gradient(45deg, #7e7e7e, #7e7e7e 10px, #5c5c5c 10px, #5c5c5c 20px);\n",
       "    }\n",
       "    .progress-bar-interrupted, .progress-bar-interrupted::-webkit-progress-bar {\n",
       "        background: #F44336;\n",
       "    }\n",
       "</style>\n"
      ],
      "text/plain": [
       "<IPython.core.display.HTML object>"
      ]
     },
     "metadata": {},
     "output_type": "display_data"
    },
    {
     "data": {
      "text/html": [
       "\n",
       "    <div>\n",
       "      <progress value='13' class='' max='13' style='width:300px; height:20px; vertical-align: middle;'></progress>\n",
       "      100.00% [13/13 00:00&lt;00:00 logp = -11.45, ||grad|| = 0.00042804]\n",
       "    </div>\n",
       "    "
      ],
      "text/plain": [
       "<IPython.core.display.HTML object>"
      ]
     },
     "metadata": {},
     "output_type": "display_data"
    },
    {
     "name": "stdout",
     "output_type": "stream",
     "text": [
      "\n"
     ]
    },
    {
     "data": {
      "text/html": [
       "\n",
       "<style>\n",
       "    /* Turns off some styling */\n",
       "    progress {\n",
       "        /* gets rid of default border in Firefox and Opera. */\n",
       "        border: none;\n",
       "        /* Needs to be in here for Safari polyfill so background images work as expected. */\n",
       "        background-size: auto;\n",
       "    }\n",
       "    progress:not([value]), progress:not([value])::-webkit-progress-bar {\n",
       "        background: repeating-linear-gradient(45deg, #7e7e7e, #7e7e7e 10px, #5c5c5c 10px, #5c5c5c 20px);\n",
       "    }\n",
       "    .progress-bar-interrupted, .progress-bar-interrupted::-webkit-progress-bar {\n",
       "        background: #F44336;\n",
       "    }\n",
       "</style>\n"
      ],
      "text/plain": [
       "<IPython.core.display.HTML object>"
      ]
     },
     "metadata": {},
     "output_type": "display_data"
    },
    {
     "data": {
      "text/html": [
       "\n",
       "    <div>\n",
       "      <progress value='10' class='' max='10' style='width:300px; height:20px; vertical-align: middle;'></progress>\n",
       "      100.00% [10/10 00:00&lt;00:00 logp = -8.2299, ||grad|| = 2.5082]\n",
       "    </div>\n",
       "    "
      ],
      "text/plain": [
       "<IPython.core.display.HTML object>"
      ]
     },
     "metadata": {},
     "output_type": "display_data"
    },
    {
     "name": "stdout",
     "output_type": "stream",
     "text": [
      "\n"
     ]
    },
    {
     "data": {
      "text/html": [
       "\n",
       "<style>\n",
       "    /* Turns off some styling */\n",
       "    progress {\n",
       "        /* gets rid of default border in Firefox and Opera. */\n",
       "        border: none;\n",
       "        /* Needs to be in here for Safari polyfill so background images work as expected. */\n",
       "        background-size: auto;\n",
       "    }\n",
       "    progress:not([value]), progress:not([value])::-webkit-progress-bar {\n",
       "        background: repeating-linear-gradient(45deg, #7e7e7e, #7e7e7e 10px, #5c5c5c 10px, #5c5c5c 20px);\n",
       "    }\n",
       "    .progress-bar-interrupted, .progress-bar-interrupted::-webkit-progress-bar {\n",
       "        background: #F44336;\n",
       "    }\n",
       "</style>\n"
      ],
      "text/plain": [
       "<IPython.core.display.HTML object>"
      ]
     },
     "metadata": {},
     "output_type": "display_data"
    },
    {
     "data": {
      "text/html": [
       "\n",
       "    <div>\n",
       "      <progress value='9' class='' max='9' style='width:300px; height:20px; vertical-align: middle;'></progress>\n",
       "      100.00% [9/9 00:00&lt;00:00 logp = -14.18, ||grad|| = 5.6728]\n",
       "    </div>\n",
       "    "
      ],
      "text/plain": [
       "<IPython.core.display.HTML object>"
      ]
     },
     "metadata": {},
     "output_type": "display_data"
    },
    {
     "name": "stdout",
     "output_type": "stream",
     "text": [
      "\n"
     ]
    },
    {
     "data": {
      "text/html": [
       "\n",
       "<style>\n",
       "    /* Turns off some styling */\n",
       "    progress {\n",
       "        /* gets rid of default border in Firefox and Opera. */\n",
       "        border: none;\n",
       "        /* Needs to be in here for Safari polyfill so background images work as expected. */\n",
       "        background-size: auto;\n",
       "    }\n",
       "    progress:not([value]), progress:not([value])::-webkit-progress-bar {\n",
       "        background: repeating-linear-gradient(45deg, #7e7e7e, #7e7e7e 10px, #5c5c5c 10px, #5c5c5c 20px);\n",
       "    }\n",
       "    .progress-bar-interrupted, .progress-bar-interrupted::-webkit-progress-bar {\n",
       "        background: #F44336;\n",
       "    }\n",
       "</style>\n"
      ],
      "text/plain": [
       "<IPython.core.display.HTML object>"
      ]
     },
     "metadata": {},
     "output_type": "display_data"
    },
    {
     "data": {
      "text/html": [
       "\n",
       "    <div>\n",
       "      <progress value='7' class='' max='7' style='width:300px; height:20px; vertical-align: middle;'></progress>\n",
       "      100.00% [7/7 00:00&lt;00:00 logp = -3.598, ||grad|| = 1.3588]\n",
       "    </div>\n",
       "    "
      ],
      "text/plain": [
       "<IPython.core.display.HTML object>"
      ]
     },
     "metadata": {},
     "output_type": "display_data"
    },
    {
     "name": "stdout",
     "output_type": "stream",
     "text": [
      "\n"
     ]
    },
    {
     "data": {
      "text/html": [
       "\n",
       "<style>\n",
       "    /* Turns off some styling */\n",
       "    progress {\n",
       "        /* gets rid of default border in Firefox and Opera. */\n",
       "        border: none;\n",
       "        /* Needs to be in here for Safari polyfill so background images work as expected. */\n",
       "        background-size: auto;\n",
       "    }\n",
       "    progress:not([value]), progress:not([value])::-webkit-progress-bar {\n",
       "        background: repeating-linear-gradient(45deg, #7e7e7e, #7e7e7e 10px, #5c5c5c 10px, #5c5c5c 20px);\n",
       "    }\n",
       "    .progress-bar-interrupted, .progress-bar-interrupted::-webkit-progress-bar {\n",
       "        background: #F44336;\n",
       "    }\n",
       "</style>\n"
      ],
      "text/plain": [
       "<IPython.core.display.HTML object>"
      ]
     },
     "metadata": {},
     "output_type": "display_data"
    },
    {
     "data": {
      "text/html": [
       "\n",
       "    <div>\n",
       "      <progress value='7' class='' max='7' style='width:300px; height:20px; vertical-align: middle;'></progress>\n",
       "      100.00% [7/7 00:00&lt;00:00 logp = -4.296, ||grad|| = 3.5075]\n",
       "    </div>\n",
       "    "
      ],
      "text/plain": [
       "<IPython.core.display.HTML object>"
      ]
     },
     "metadata": {},
     "output_type": "display_data"
    },
    {
     "name": "stdout",
     "output_type": "stream",
     "text": [
      "\n"
     ]
    },
    {
     "data": {
      "text/html": [
       "\n",
       "<style>\n",
       "    /* Turns off some styling */\n",
       "    progress {\n",
       "        /* gets rid of default border in Firefox and Opera. */\n",
       "        border: none;\n",
       "        /* Needs to be in here for Safari polyfill so background images work as expected. */\n",
       "        background-size: auto;\n",
       "    }\n",
       "    progress:not([value]), progress:not([value])::-webkit-progress-bar {\n",
       "        background: repeating-linear-gradient(45deg, #7e7e7e, #7e7e7e 10px, #5c5c5c 10px, #5c5c5c 20px);\n",
       "    }\n",
       "    .progress-bar-interrupted, .progress-bar-interrupted::-webkit-progress-bar {\n",
       "        background: #F44336;\n",
       "    }\n",
       "</style>\n"
      ],
      "text/plain": [
       "<IPython.core.display.HTML object>"
      ]
     },
     "metadata": {},
     "output_type": "display_data"
    },
    {
     "data": {
      "text/html": [
       "\n",
       "    <div>\n",
       "      <progress value='7' class='' max='7' style='width:300px; height:20px; vertical-align: middle;'></progress>\n",
       "      100.00% [7/7 00:00&lt;00:00 logp = -4.5569, ||grad|| = 2.7495]\n",
       "    </div>\n",
       "    "
      ],
      "text/plain": [
       "<IPython.core.display.HTML object>"
      ]
     },
     "metadata": {},
     "output_type": "display_data"
    },
    {
     "name": "stdout",
     "output_type": "stream",
     "text": [
      "\n"
     ]
    },
    {
     "data": {
      "text/html": [
       "\n",
       "<style>\n",
       "    /* Turns off some styling */\n",
       "    progress {\n",
       "        /* gets rid of default border in Firefox and Opera. */\n",
       "        border: none;\n",
       "        /* Needs to be in here for Safari polyfill so background images work as expected. */\n",
       "        background-size: auto;\n",
       "    }\n",
       "    progress:not([value]), progress:not([value])::-webkit-progress-bar {\n",
       "        background: repeating-linear-gradient(45deg, #7e7e7e, #7e7e7e 10px, #5c5c5c 10px, #5c5c5c 20px);\n",
       "    }\n",
       "    .progress-bar-interrupted, .progress-bar-interrupted::-webkit-progress-bar {\n",
       "        background: #F44336;\n",
       "    }\n",
       "</style>\n"
      ],
      "text/plain": [
       "<IPython.core.display.HTML object>"
      ]
     },
     "metadata": {},
     "output_type": "display_data"
    },
    {
     "data": {
      "text/html": [
       "\n",
       "    <div>\n",
       "      <progress value='7' class='' max='7' style='width:300px; height:20px; vertical-align: middle;'></progress>\n",
       "      100.00% [7/7 00:00&lt;00:00 logp = -4.5458, ||grad|| = 1.4423]\n",
       "    </div>\n",
       "    "
      ],
      "text/plain": [
       "<IPython.core.display.HTML object>"
      ]
     },
     "metadata": {},
     "output_type": "display_data"
    },
    {
     "name": "stdout",
     "output_type": "stream",
     "text": [
      "\n"
     ]
    },
    {
     "data": {
      "text/html": [
       "\n",
       "<style>\n",
       "    /* Turns off some styling */\n",
       "    progress {\n",
       "        /* gets rid of default border in Firefox and Opera. */\n",
       "        border: none;\n",
       "        /* Needs to be in here for Safari polyfill so background images work as expected. */\n",
       "        background-size: auto;\n",
       "    }\n",
       "    progress:not([value]), progress:not([value])::-webkit-progress-bar {\n",
       "        background: repeating-linear-gradient(45deg, #7e7e7e, #7e7e7e 10px, #5c5c5c 10px, #5c5c5c 20px);\n",
       "    }\n",
       "    .progress-bar-interrupted, .progress-bar-interrupted::-webkit-progress-bar {\n",
       "        background: #F44336;\n",
       "    }\n",
       "</style>\n"
      ],
      "text/plain": [
       "<IPython.core.display.HTML object>"
      ]
     },
     "metadata": {},
     "output_type": "display_data"
    },
    {
     "data": {
      "text/html": [
       "\n",
       "    <div>\n",
       "      <progress value='10' class='' max='10' style='width:300px; height:20px; vertical-align: middle;'></progress>\n",
       "      100.00% [10/10 00:00&lt;00:00 logp = -6.5989, ||grad|| = 7.722]\n",
       "    </div>\n",
       "    "
      ],
      "text/plain": [
       "<IPython.core.display.HTML object>"
      ]
     },
     "metadata": {},
     "output_type": "display_data"
    },
    {
     "name": "stdout",
     "output_type": "stream",
     "text": [
      "\n"
     ]
    }
   ],
   "source": [
    "mus, sigmas = [], []\n",
    "\n",
    "for t in range(step, n_obs, step):\n",
    "    x_new = x_obs[t:t+step]\n",
    "    y_new = y_obs[t:t+step]\n",
    "    \n",
    "    with pm.Model() as updated_model:\n",
    "        # Reset priors to posteriors from previous iteration, unless weights are fixed\n",
    "        updated_mus = mean_w[\"w\"]\n",
    "        updated_sigmas = std_w\n",
    "        mus.append(updated_mus)\n",
    "        sigmas.append(updated_sigmas)\n",
    "        \n",
    "        w = pm.Normal(\"w\", updated_mus, updated_sigmas, shape=num_features)\n",
    "        p = pm.math.invlogit(x_new @ w)\n",
    "        y = pm.Binomial(\"y\", 1, p, observed=y_new)\n",
    "\n",
    "        mean_w = pm.find_MAP()\n",
    "        hess = pm.find_hessian(mean_w, vars=[w])\n",
    "        var_cov = np.linalg.inv(hess)\n",
    "        std_w = np.sqrt(np.diag(var_cov))"
   ]
  },
  {
   "cell_type": "markdown",
   "id": "683c8d57-b74f-4972-b639-e4cc3de345ae",
   "metadata": {},
   "source": [
    "Plot changes to the posterior with each update"
   ]
  },
  {
   "cell_type": "code",
   "execution_count": null,
   "id": "c5d2a204-0b34-4432-9fa5-e31b71834770",
   "metadata": {},
   "outputs": [
    {
     "data": {
      "image/png": "[encoded data removed]",
      "text/plain": [
       "<Figure size 400x100 with 1 Axes>"
      ]
     },
     "metadata": {},
     "output_type": "display_data"
    },
    {
     "data": {
      "image/png": "[encoded data removed]",
      "text/plain": [
       "<Figure size 400x100 with 1 Axes>"
      ]
     },
     "metadata": {},
     "output_type": "display_data"
    },
    {
     "data": {
      "image/png": "[encoded data removed]",
      "text/plain": [
       "<Figure size 400x100 with 1 Axes>"
      ]
     },
     "metadata": {},
     "output_type": "display_data"
    }
   ],
   "source": [
    "mus = np.array(mus)\n",
    "sigmas = np.array(sigmas)\n",
    "cmap = matplotlib.cm.autumn\n",
    "x_axis = np.arange(-10, 10, 0.1)\n",
    "\n",
    "for j in range(mus.shape[1]):\n",
    "    plt.figure(figsize=(4, 1))\n",
    "    plt.title(f\"w{j}\")\n",
    "    for c, (mu, sigma) in enumerate(zip(mus[:, j], sigmas[:, j])):\n",
    "        plt.plot(x_axis, norm.pdf(x_axis, mu, sigma), color=cmap(1 - c / mus.shape[0]))"
   ]
  },
  {
   "cell_type": "markdown",
   "id": "bc7751e5-5b6a-4d2e-9c76-9b4f478b9d40",
   "metadata": {},
   "source": [
    "In order to see the decision boundary, I need the weights as point estimates, so I just take the mean of the posterior.\n",
    "\n",
    "Below shows how the decision boundary changed with each update."
   ]
  },
  {
   "cell_type": "code",
   "execution_count": null,
   "id": "cb29dfcd-cbc7-4759-b5c4-91a28494258f",
   "metadata": {},
   "outputs": [
    {
     "data": {
      "image/png": "[encoded data removed]",
      "text/plain": [
       "<Figure size 400x400 with 1 Axes>"
      ]
     },
     "metadata": {},
     "output_type": "display_data"
    }
   ],
   "source": [
    "plt.figure(figsize=(4, 4))\n",
    "sns.scatterplot(x=x0_obs, y=x1_obs, hue=y_obs.flatten())\n",
    "\n",
    "alpha0 = alpha = 1 / mus.shape[0]\n",
    "for mu in mus:\n",
    "    w0, w1, w2 = mu\n",
    "    b = -w0/w2\n",
    "    m = -w1/w2\n",
    "    xd = np.array([x0_obs.min(), x0_obs.max()])\n",
    "    yd = m*xd + b\n",
    "    plt.plot(xd, yd, 'k', lw=1, ls='--', alpha=min(alpha, 1))\n",
    "    alpha += alpha0\n",
    "\n",
    "plt.show()"
   ]
  },
  {
   "cell_type": "markdown",
   "id": "284413e0-96c3-47d8-8679-571a79925e93",
   "metadata": {},
   "source": [
    "The figure shows the decision boundary at each update, where the darker lines show the later updates. You can see the initial lines are a bit wonky, but as new data is added the updates converge on a good estimate of the boundary.\n",
    "\n",
    "And that’s it! Note that because it is actually the full posterior that is estimated, and not just the point estimate of its maximum, I can continue updating the model in perpetuity as new data arrives and still be able to recover point estimates of the weights at any time.\n",
    "\n",
    "### Further reading\n",
    "\n",
    "Just as I’ve implemented this solution as a bayesian regression, the same basic approach could be taken using more complex (e.g. deep) models by implementing them as bayesian neural networks (e.g. check out [pyro](http://pyro.ai/examples/intro_long.html) or this more lightweight and very impressive [package](https://github.com/Harry24k/bayesian-neural-network-pytorch)). Updating bayesian NNs will rely on more advanced methods than the quadratic approximations done here (e.g. variational inference), but these can also be implemented an online fashion by continually resetting posteriors <-> priors."
   ]
  }
 ],
 "metadata": {
  "kernelspec": {
   "display_name": "pymc",
   "language": "python",
   "name": "pymc"
  },
  "language_info": {
   "codemirror_mode": {
    "name": "ipython",
    "version": 3
   },
   "file_extension": ".py",
   "mimetype": "text/x-python",
   "name": "python",
   "nbconvert_exporter": "python",
   "pygments_lexer": "ipython3",
   "version": "3.10.6"
  }
 },
 "nbformat": 4,
 "nbformat_minor": 5
}
